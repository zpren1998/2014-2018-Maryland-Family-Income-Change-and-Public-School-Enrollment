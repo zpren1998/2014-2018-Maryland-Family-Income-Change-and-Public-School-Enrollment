{
  "nbformat": 4,
  "nbformat_minor": 0,
  "metadata": {
    "colab": {
      "name": "2014-2018 Maryland Income & School Enrollment Study.ipynb",
      "provenance": [],
      "collapsed_sections": [],
      "authorship_tag": "ABX9TyPDIroQTJAdda/leVcNlW+7",
      "include_colab_link": true
    },
    "kernelspec": {
      "name": "python3",
      "display_name": "Python 3"
    }
  },
  "cells": [
    {
      "cell_type": "markdown",
      "metadata": {
        "id": "view-in-github",
        "colab_type": "text"
      },
      "source": [
        "<a href=\"https://colab.research.google.com/github/zpren1998/2014-2018-Maryland-Family-Income-Change-and-Public-School-Enrollment/blob/main/2014_2018_Maryland_Income_%26_School_Enrollment_Study.ipynb\" target=\"_parent\"><img src=\"https://colab.research.google.com/assets/colab-badge.svg\" alt=\"Open In Colab\"/></a>"
      ]
    },
    {
      "cell_type": "markdown",
      "metadata": {
        "id": "8K4Ggb6_cM9G"
      },
      "source": [
        "# 2014-2018 Maryland Income & School Enrollment Study"
      ]
    },
    {
      "cell_type": "markdown",
      "metadata": {
        "id": "V7o9NpyEcUd4"
      },
      "source": [
        "Aims: \r\n",
        "* Study the income change and income distrbution change from 2014 to 2018 in Maryland and counties. \r\n",
        "* Analyze the relationship between public school enrollment and family income change in Maryland. \r\n"
      ]
    },
    {
      "cell_type": "markdown",
      "metadata": {
        "id": "eeakNNWH1zFO"
      },
      "source": [
        "## Import library"
      ]
    },
    {
      "cell_type": "code",
      "metadata": {
        "id": "zNCvcAuxclFy"
      },
      "source": [
        "# for data analysis\r\n",
        "import pandas as pd\r\n",
        "import numpy as np\r\n",
        "from numpy import ptp\r\n",
        "# for data visualization\r\n",
        "import plotly.express as px\r\n",
        "from plotly.subplots import make_subplots # this will be important when combining charts\r\n",
        "import plotly.figure_factory as ff # this will be to make density charts\r\n",
        "import matplotlib as mpl\r\n",
        "import matplotlib.pyplot as plt\r\n",
        "# exporting files\r\n",
        "from google.colab import files"
      ],
      "execution_count": null,
      "outputs": []
    },
    {
      "cell_type": "markdown",
      "metadata": {
        "id": "70f-HgTz3Pwf"
      },
      "source": [
        "## Import data"
      ]
    },
    {
      "cell_type": "code",
      "metadata": {
        "id": "TT7uKvKJzm-G"
      },
      "source": [
        "# Import merged MD household income data 2014-2020\r\n",
        "df_mdfin = pd.read_csv(\"https://raw.githubusercontent.com/zpren1998/2014-2018-Maryland-Family-Income-Change-and-Public-School-Enrollment/main/Maryland_Family_Income_2014-2020.csv\")\r\n",
        "# Import median income data in MD counties 2010-2018\r\n",
        "df_mdcin = pd.read_csv(\"https://raw.githubusercontent.com/zpren1998/2014-2018-Maryland-Family-Income-Change-and-Public-School-Enrollment/main/Maryland_Median_Household_Income_By_Year_With_Margin_Of_Error__2010-2018.csv\")\r\n",
        "# Import public school enrollment in MD counties\r\n",
        "df_mdenroll = pd.read_csv(\"https://raw.githubusercontent.com/zpren1998/2014-2018-Maryland-Family-Income-Change-and-Public-School-Enrollment/main/Maryland_Public_School_Enrollment_Trends__Pre-Kindergarten_to_Grade_12__2009-2019.csv\",thousands=\",\")\r\n",
        "# Import MD population data in counties 2019-2019\r\n",
        "df_mdpop = pd.read_csv(\"https://raw.githubusercontent.com/zpren1998/2014-2018-Maryland-Family-Income-Change-and-Public-School-Enrollment/main/Population_Estimates_2010-2019.csv\",thousands=\",\")"
      ],
      "execution_count": null,
      "outputs": []
    },
    {
      "cell_type": "markdown",
      "metadata": {
        "id": "rcdFT9Bi_qtR"
      },
      "source": [
        "## Population analysis of MD counties"
      ]
    },
    {
      "cell_type": "code",
      "metadata": {
        "id": "-BF7XYrnGVJ7"
      },
      "source": [
        "# Graph the population change from 2014 to 2018\r\n",
        "# Filter the population from 2014-2018\r\n",
        "df_mdpop_14_18 = df_mdpop[[\"Year\",\"2014\",\"2015\",\"2016\",\"2017\",\"2018\"]]"
      ],
      "execution_count": null,
      "outputs": []
    },
    {
      "cell_type": "code",
      "metadata": {
        "colab": {
          "base_uri": "https://localhost:8080/",
          "height": 355
        },
        "id": "skwq0si5_eC_",
        "outputId": "c6466b57-d87a-4161-e4cb-1d8836b97bfe"
      },
      "source": [
        "# Picking out the counties with top 10 population from 2014 to 2018\r\n",
        "df_mdpop = df_mdpop.sort_values(by = \"2018\",ascending=False)\r\n",
        "df_mdpop.head(10)"
      ],
      "execution_count": null,
      "outputs": [
        {
          "output_type": "execute_result",
          "data": {
            "text/html": [
              "<div>\n",
              "<style scoped>\n",
              "    .dataframe tbody tr th:only-of-type {\n",
              "        vertical-align: middle;\n",
              "    }\n",
              "\n",
              "    .dataframe tbody tr th {\n",
              "        vertical-align: top;\n",
              "    }\n",
              "\n",
              "    .dataframe thead th {\n",
              "        text-align: right;\n",
              "    }\n",
              "</style>\n",
              "<table border=\"1\" class=\"dataframe\">\n",
              "  <thead>\n",
              "    <tr style=\"text-align: right;\">\n",
              "      <th></th>\n",
              "      <th>Year</th>\n",
              "      <th>2010</th>\n",
              "      <th>2011</th>\n",
              "      <th>2012</th>\n",
              "      <th>2013</th>\n",
              "      <th>2014</th>\n",
              "      <th>2015</th>\n",
              "      <th>2016</th>\n",
              "      <th>2017</th>\n",
              "      <th>2018</th>\n",
              "      <th>2019</th>\n",
              "    </tr>\n",
              "  </thead>\n",
              "  <tbody>\n",
              "    <tr>\n",
              "      <th>15</th>\n",
              "      <td>Montgomery County</td>\n",
              "      <td>975602</td>\n",
              "      <td>991185</td>\n",
              "      <td>1005079</td>\n",
              "      <td>1015172</td>\n",
              "      <td>1024617</td>\n",
              "      <td>1032814</td>\n",
              "      <td>1038846</td>\n",
              "      <td>1046822</td>\n",
              "      <td>1048478</td>\n",
              "      <td>1050688</td>\n",
              "    </tr>\n",
              "    <tr>\n",
              "      <th>16</th>\n",
              "      <td>Prince George's County</td>\n",
              "      <td>866419</td>\n",
              "      <td>874389</td>\n",
              "      <td>882490</td>\n",
              "      <td>890658</td>\n",
              "      <td>899686</td>\n",
              "      <td>906197</td>\n",
              "      <td>908501</td>\n",
              "      <td>909705</td>\n",
              "      <td>909619</td>\n",
              "      <td>909327</td>\n",
              "    </tr>\n",
              "    <tr>\n",
              "      <th>3</th>\n",
              "      <td>Baltimore County</td>\n",
              "      <td>806656</td>\n",
              "      <td>812961</td>\n",
              "      <td>818113</td>\n",
              "      <td>822274</td>\n",
              "      <td>824994</td>\n",
              "      <td>827533</td>\n",
              "      <td>828682</td>\n",
              "      <td>828645</td>\n",
              "      <td>827859</td>\n",
              "      <td>827370</td>\n",
              "    </tr>\n",
              "    <tr>\n",
              "      <th>2</th>\n",
              "      <td>Baltimore City</td>\n",
              "      <td>620915</td>\n",
              "      <td>620410</td>\n",
              "      <td>622895</td>\n",
              "      <td>622391</td>\n",
              "      <td>623587</td>\n",
              "      <td>622522</td>\n",
              "      <td>616226</td>\n",
              "      <td>610481</td>\n",
              "      <td>602443</td>\n",
              "      <td>593490</td>\n",
              "    </tr>\n",
              "    <tr>\n",
              "      <th>1</th>\n",
              "      <td>Anne Arundel County</td>\n",
              "      <td>539284</td>\n",
              "      <td>544803</td>\n",
              "      <td>550333</td>\n",
              "      <td>555417</td>\n",
              "      <td>559142</td>\n",
              "      <td>563027</td>\n",
              "      <td>567254</td>\n",
              "      <td>571339</td>\n",
              "      <td>575523</td>\n",
              "      <td>579234</td>\n",
              "    </tr>\n",
              "    <tr>\n",
              "      <th>13</th>\n",
              "      <td>Howard County</td>\n",
              "      <td>288627</td>\n",
              "      <td>293583</td>\n",
              "      <td>299184</td>\n",
              "      <td>303527</td>\n",
              "      <td>306909</td>\n",
              "      <td>311297</td>\n",
              "      <td>315416</td>\n",
              "      <td>319251</td>\n",
              "      <td>322621</td>\n",
              "      <td>325690</td>\n",
              "    </tr>\n",
              "    <tr>\n",
              "      <th>10</th>\n",
              "      <td>Frederick County</td>\n",
              "      <td>234218</td>\n",
              "      <td>237284</td>\n",
              "      <td>239645</td>\n",
              "      <td>241129</td>\n",
              "      <td>243381</td>\n",
              "      <td>245001</td>\n",
              "      <td>246999</td>\n",
              "      <td>250622</td>\n",
              "      <td>254943</td>\n",
              "      <td>259547</td>\n",
              "    </tr>\n",
              "    <tr>\n",
              "      <th>12</th>\n",
              "      <td>Harford County</td>\n",
              "      <td>245237</td>\n",
              "      <td>246729</td>\n",
              "      <td>248566</td>\n",
              "      <td>248890</td>\n",
              "      <td>249314</td>\n",
              "      <td>249558</td>\n",
              "      <td>250370</td>\n",
              "      <td>251858</td>\n",
              "      <td>253882</td>\n",
              "      <td>255441</td>\n",
              "    </tr>\n",
              "    <tr>\n",
              "      <th>6</th>\n",
              "      <td>Carroll County</td>\n",
              "      <td>167213</td>\n",
              "      <td>167037</td>\n",
              "      <td>167049</td>\n",
              "      <td>167217</td>\n",
              "      <td>167327</td>\n",
              "      <td>167132</td>\n",
              "      <td>167100</td>\n",
              "      <td>167547</td>\n",
              "      <td>168267</td>\n",
              "      <td>168447</td>\n",
              "    </tr>\n",
              "    <tr>\n",
              "      <th>8</th>\n",
              "      <td>Charles County</td>\n",
              "      <td>147159</td>\n",
              "      <td>149200</td>\n",
              "      <td>150668</td>\n",
              "      <td>152645</td>\n",
              "      <td>154359</td>\n",
              "      <td>155665</td>\n",
              "      <td>157292</td>\n",
              "      <td>159450</td>\n",
              "      <td>161476</td>\n",
              "      <td>163257</td>\n",
              "    </tr>\n",
              "  </tbody>\n",
              "</table>\n",
              "</div>"
            ],
            "text/plain": [
              "                      Year    2010    2011  ...     2017     2018     2019\n",
              "15       Montgomery County  975602  991185  ...  1046822  1048478  1050688\n",
              "16  Prince George's County  866419  874389  ...   909705   909619   909327\n",
              "3         Baltimore County  806656  812961  ...   828645   827859   827370\n",
              "2           Baltimore City  620915  620410  ...   610481   602443   593490\n",
              "1      Anne Arundel County  539284  544803  ...   571339   575523   579234\n",
              "13           Howard County  288627  293583  ...   319251   322621   325690\n",
              "10        Frederick County  234218  237284  ...   250622   254943   259547\n",
              "12          Harford County  245237  246729  ...   251858   253882   255441\n",
              "6           Carroll County  167213  167037  ...   167547   168267   168447\n",
              "8           Charles County  147159  149200  ...   159450   161476   163257\n",
              "\n",
              "[10 rows x 11 columns]"
            ]
          },
          "metadata": {
            "tags": []
          },
          "execution_count": 4
        }
      ]
    },
    {
      "cell_type": "markdown",
      "metadata": {
        "id": "3KbCG6s2GGp5"
      },
      "source": [
        "The top 10 counties are shown above. The ratio of population of these counties will be calculated to show validity."
      ]
    },
    {
      "cell_type": "code",
      "metadata": {
        "colab": {
          "base_uri": "https://localhost:8080/"
        },
        "id": "oeniNPpREDHU",
        "outputId": "021034c4-f1d4-4981-d299-03850a773269"
      },
      "source": [
        "# Estimate the ratio of the population in the top 10 counties (take 2018 as example)\r\n",
        "pc = sum(df_mdpop[\"2018\"][0:10])/sum(df_mdpop[\"2018\"])\r\n",
        "pc"
      ],
      "execution_count": null,
      "outputs": [
        {
          "output_type": "execute_result",
          "data": {
            "text/plain": [
              "0.8491184767161016"
            ]
          },
          "metadata": {
            "tags": []
          },
          "execution_count": 5
        }
      ]
    },
    {
      "cell_type": "markdown",
      "metadata": {
        "id": "TWFCzEvQF8t5"
      },
      "source": [
        "The counties with top 10 populations make up 85.0% of total MD population"
      ]
    },
    {
      "cell_type": "markdown",
      "metadata": {
        "id": "LvkG04w13LQH"
      },
      "source": [
        "## Family income change in counties with top 10 population"
      ]
    },
    {
      "cell_type": "code",
      "metadata": {
        "id": "3HS5fQ4KYBU1"
      },
      "source": [
        "# Filter MD counties income data\r\n",
        "df_mdcin = df_mdcin[(df_mdcin[\"Data\"] != \"MOE\")]"
      ],
      "execution_count": null,
      "outputs": []
    },
    {
      "cell_type": "code",
      "metadata": {
        "id": "d93363gtQrA4"
      },
      "source": [
        "# Filter the income from 2014 to 2018\r\n",
        "df_mdcin_14_18 = df_mdcin.iloc[4:9]"
      ],
      "execution_count": null,
      "outputs": []
    },
    {
      "cell_type": "code",
      "metadata": {
        "colab": {
          "base_uri": "https://localhost:8080/",
          "height": 295
        },
        "id": "_rtcL66Wlh4v",
        "outputId": "23190cce-35e8-42eb-cf12-81a3982da521"
      },
      "source": [
        "# Line chart of MD counties family income\r\n",
        "# As the previous section showed, counties with top 10 counties \r\n",
        "plt.title(\"Family Income Change in MD Counties, 2014-2018\")\r\n",
        "plt.xlabel(\"Years\")\r\n",
        "plt.ylabel(\"Annual Income\")\r\n",
        "plt.plot(df_mdcin_14_18[\"Year\"],df_mdcin_14_18[\"Montgomery County\"],label=\"Montgomery County\")\r\n",
        "plt.plot(df_mdcin_14_18[\"Year\"],df_mdcin_14_18[\"Prince George's County\"],label=\"Prince George's County\")\r\n",
        "plt.plot(df_mdcin_14_18[\"Year\"],df_mdcin_14_18[\"Baltimore City\"],label=\"Baltimore City\")\r\n",
        "plt.plot(df_mdcin_14_18[\"Year\"],df_mdcin_14_18[\"Baltimore County\"],label=\"Baltimore County\")\r\n",
        "plt.plot(df_mdcin_14_18[\"Year\"],df_mdcin_14_18[\"Anne Arundel County\"],label=\"Anne Arundel County\")\r\n",
        "plt.plot(df_mdcin_14_18[\"Year\"],df_mdcin_14_18[\"Howard County\"],label=\"Howard County\")\r\n",
        "plt.plot(df_mdcin_14_18[\"Year\"],df_mdcin_14_18[\"Frederick County\"],label=\"Frederick County\")\r\n",
        "plt.plot(df_mdcin_14_18[\"Year\"],df_mdcin_14_18[\"Harford County\"],label=\"Harford County\")\r\n",
        "plt.plot(df_mdcin_14_18[\"Year\"],df_mdcin_14_18[\"Carroll County\"],label=\"Carroll County\")\r\n",
        "plt.plot(df_mdcin_14_18[\"Year\"],df_mdcin_14_18[\"Charles County\"],label=\"Charles County\")\r\n",
        "plt.legend(bbox_to_anchor=(1.05,0),loc=3,borderaxespad=0)\r\n",
        "plt.show()"
      ],
      "execution_count": null,
      "outputs": [
        {
          "output_type": "display_data",
          "data": {
            "image/png": "[encoded data removed]",
            "text/plain": [
              "<Figure size 432x288 with 1 Axes>"
            ]
          },
          "metadata": {
            "tags": [],
            "needs_background": "light"
          }
        }
      ]
    },
    {
      "cell_type": "markdown",
      "metadata": {
        "id": "-hdD5wkmQnVT"
      },
      "source": [
        "Generally, annual income in the top 10 counties are increasing from 2014 to 2018. "
      ]
    },
    {
      "cell_type": "code",
      "metadata": {
        "id": "ldre7UDPeie6"
      },
      "source": [
        "# Analyze the family income range change in MD 2014-2018\r\n",
        "# Download the file as csv and calculate range in EXCEL\r\n",
        "df_mdcin_14_18.to_csv(\"Family_income_in_MD_counties_2014-2018.csv\")\r\n",
        "files.download(\"Family_income_in_MD_counties_2014-2018.csv\")"
      ],
      "execution_count": null,
      "outputs": []
    },
    {
      "cell_type": "markdown",
      "metadata": {
        "id": "e2OaKjZicLXv"
      },
      "source": [
        "## Maryland public school enrollment in counties with top 10 population"
      ]
    },
    {
      "cell_type": "code",
      "metadata": {
        "id": "jZKTbYDB5xh7"
      },
      "source": [
        "# Filter out the public school enrollment data for 2014-2018 and sort by grades\r\n",
        "df_mdenroll_14_18 = df_mdenroll.loc[20:39,[\"Grades\",\"Year\",\"Montgomery County\",\"Prince George's County\",\"Baltimore City\",\"Baltimore County\",\"Anne Arundel County\",\"Howard County\",\"Frederick County\",\"Harford County\",\"Carroll County\",\"Charles County\"]]\r\n",
        "df_mdenroll_14_18 = df_mdenroll_14_18.sort_values(by = [\"Grades\",\"Year\"])"
      ],
      "execution_count": null,
      "outputs": []
    },
    {
      "cell_type": "code",
      "metadata": {
        "colab": {
          "base_uri": "https://localhost:8080/",
          "height": 17
        },
        "id": "nG_yHD-LUW3W",
        "outputId": "96b2f197-2c8e-4065-a5ea-18a49d1d00b1"
      },
      "source": [
        "# Visualize the enrollment data of different grades\r\n",
        "# Data visualization will be done in EXCEL\r\n",
        "df_mdenroll_14_18.to_csv(\"Public_School_Enrollment_in_MD_counties_2014-2018.csv\")\r\n",
        "files.download(\"Public_School_Enrollment_in_MD_counties_2014-2018.csv\")"
      ],
      "execution_count": null,
      "outputs": [
        {
          "output_type": "display_data",
          "data": {
            "application/javascript": [
              "\n",
              "    async function download(id, filename, size) {\n",
              "      if (!google.colab.kernel.accessAllowed) {\n",
              "        return;\n",
              "      }\n",
              "      const div = document.createElement('div');\n",
              "      const label = document.createElement('label');\n",
              "      label.textContent = `Downloading \"${filename}\": `;\n",
              "      div.appendChild(label);\n",
              "      const progress = document.createElement('progress');\n",
              "      progress.max = size;\n",
              "      div.appendChild(progress);\n",
              "      document.body.appendChild(div);\n",
              "\n",
              "      const buffers = [];\n",
              "      let downloaded = 0;\n",
              "\n",
              "      const channel = await google.colab.kernel.comms.open(id);\n",
              "      // Send a message to notify the kernel that we're ready.\n",
              "      channel.send({})\n",
              "\n",
              "      for await (const message of channel.messages) {\n",
              "        // Send a message to notify the kernel that we're ready.\n",
              "        channel.send({})\n",
              "        if (message.buffers) {\n",
              "          for (const buffer of message.buffers) {\n",
              "            buffers.push(buffer);\n",
              "            downloaded += buffer.byteLength;\n",
              "            progress.value = downloaded;\n",
              "          }\n",
              "        }\n",
              "      }\n",
              "      const blob = new Blob(buffers, {type: 'application/binary'});\n",
              "      const a = document.createElement('a');\n",
              "      a.href = window.URL.createObjectURL(blob);\n",
              "      a.download = filename;\n",
              "      div.appendChild(a);\n",
              "      a.click();\n",
              "      div.remove();\n",
              "    }\n",
              "  "
            ],
            "text/plain": [
              "<IPython.core.display.Javascript object>"
            ]
          },
          "metadata": {
            "tags": []
          }
        },
        {
          "output_type": "display_data",
          "data": {
            "application/javascript": [
              "download(\"download_94d3d997-5995-41e1-b362-c4003e55bb64\", \"Public_School_Enrollment_in_MD_counties_2014-2018.csv\", 1542)"
            ],
            "text/plain": [
              "<IPython.core.display.Javascript object>"
            ]
          },
          "metadata": {
            "tags": []
          }
        }
      ]
    }
  ]
}